{
 "cells": [
  {
   "cell_type": "markdown",
   "metadata": {},
   "source": [
    "# Character-level Text Generation on Harry Potter Books\n",
    "---\n",
    "A boredom project of mine, heavily inspired by [Andrej Karpathy's video](https://www.youtube.com/watch?v=kCc8FmEb1nY&t=2156s).\n",
    "This is a character-level Transformer model trained on the Harry Potter books. The aim of the project for me personally is to try to remember how to use PyTorch and Lightning, and to try to understand the Transformer model better. I trained it on Kaggle's GPU for 5 epochs and it took about 10 hours.\n",
    "\n",
    "The dataset is taken from [Formcept's Github Repo](https://github.com/formcept/whiteboard/tree/master/nbviewer/notebooks/data/harrypotter)."
   ]
  },
  {
   "cell_type": "markdown",
   "metadata": {},
   "source": [
    "## Pre-Requisites"
   ]
  },
  {
   "cell_type": "markdown",
   "metadata": {},
   "source": [
    "### Library imports"
   ]
  },
  {
   "cell_type": "code",
   "execution_count": 1,
   "metadata": {},
   "outputs": [],
   "source": [
    "# Importing the visualisation and data processing library\n",
    "import matplotlib.pyplot as plt\n",
    "import pandas as pd\n",
    "\n",
    "# Importing Torch and all that good stuff\n",
    "import torch\n",
    "import torch.nn as nn\n",
    "import torch.nn.functional as F\n",
    "import torch.optim as optim\n",
    "from torch.utils.data import DataLoader, Dataset, random_split\n",
    "\n",
    "# Importing Lightning and Torchmetrics\n",
    "import lightning as L\n",
    "from lightning.pytorch.loggers import CSVLogger\n",
    "import torchmetrics"
   ]
  },
  {
   "cell_type": "markdown",
   "metadata": {},
   "source": [
    "### Reading in the dataset"
   ]
  },
  {
   "cell_type": "code",
   "execution_count": 2,
   "metadata": {},
   "outputs": [
    {
     "name": "stdout",
     "output_type": "stream",
     "text": [
      "/ \n",
      "\n",
      "\n",
      "\n",
      "\n",
      "THE BOY WHO LIVED \n",
      "\n",
      "Mr. and Mrs. Dursley, of number four, Privet Drive, \n",
      "were proud to say that they were perfectly normal, \n",
      "thank you very much. They were the last people you’d \n",
      "expect to be involved in anything strange or \n",
      "mysterious, because they just didn’t hold with such \n",
      "nonsense. \n",
      "\n",
      "Mr. Dursley was the director of a firm called \n",
      "Grunnings, which made drills. He was a big, beefy \n",
      "man with hardly any neck, although he did have a \n",
      "very large mustache. Mrs. Dursley was thin and \n",
      "blonde \n"
     ]
    }
   ],
   "source": [
    "# Reading in the dataset\n",
    "with open('data//hp_all.txt', 'r', encoding='utf-8') as f:\n",
    "    data = f.read()\n",
    "\n",
    "# Display the first 500 characters of the data\n",
    "print(data[:500])"
   ]
  },
  {
   "cell_type": "markdown",
   "metadata": {},
   "source": [
    "## Data Preprocessing"
   ]
  },
  {
   "cell_type": "markdown",
   "metadata": {},
   "source": [
    "### Character maps"
   ]
  },
  {
   "cell_type": "code",
   "execution_count": 3,
   "metadata": {},
   "outputs": [
    {
     "name": "stdout",
     "output_type": "stream",
     "text": [
      "Length of vocabulary : 92\n",
      "Vocabulary : ['\\n', ' ', '!', '\"', '%', '&', \"'\", '(', ')', '*', ',', '-', '.', '/', '0', '1', '2', '3', '4', '5', '6', '7', '8', '9', ':', ';', '>', '?', 'A', 'B', 'C', 'D', 'E', 'F', 'G', 'H', 'I', 'J', 'K', 'L', 'M', 'N', 'O', 'P', 'Q', 'R', 'S', 'T', 'U', 'V', 'W', 'X', 'Y', 'Z', '\\\\', ']', 'a', 'b', 'c', 'd', 'e', 'f', 'g', 'h', 'i', 'j', 'k', 'l', 'm', 'n', 'o', 'p', 'q', 'r', 's', 't', 'u', 'v', 'w', 'x', 'y', 'z', '|', '~', '—', '‘', '’', '“', '”', '•', '■', '□']\n"
     ]
    }
   ],
   "source": [
    "# Creating a set of unique characters from the text\n",
    "unique_chars = sorted(list(set(data)))\n",
    "\n",
    "# Creating a character map from the text\n",
    "stoi = {ch:i for i,ch in enumerate(unique_chars)}\n",
    "\n",
    "# Creating the inverse map\n",
    "itos = {i:ch for ch,i in stoi.items()}\n",
    "\n",
    "# Printing the length of the vocabulary and the vocabulary\n",
    "print(\"Length of vocabulary : {}\".format(len(unique_chars)))\n",
    "print(\"Vocabulary : {}\".format(unique_chars))"
   ]
  },
  {
   "cell_type": "markdown",
   "metadata": {},
   "source": [
    "### Mapper functions"
   ]
  },
  {
   "cell_type": "code",
   "execution_count": 4,
   "metadata": {},
   "outputs": [],
   "source": [
    "# Creating a lambda function to convert a string to a integer\n",
    "encode = lambda s: [stoi[c] for c in s]\n",
    "\n",
    "# Creating a lambda function to convert a integer to a string\n",
    "decode = lambda i: ''.join([itos[j] for j in i])"
   ]
  },
  {
   "cell_type": "markdown",
   "metadata": {},
   "source": [
    "### Converting the data into integer values"
   ]
  },
  {
   "cell_type": "code",
   "execution_count": 5,
   "metadata": {},
   "outputs": [
    {
     "name": "stdout",
     "output_type": "stream",
     "text": [
      "tensor([13,  1,  0,  0,  0,  0,  0, 47, 35, 32,  1, 29, 42, 52,  1, 50, 35, 42,\n",
      "         1, 39, 36, 49, 32, 31,  1,  0,  0, 40, 73, 12,  1, 56, 69, 59,  1, 40,\n",
      "        73, 74, 12,  1, 31, 76, 73, 74, 67, 60, 80, 10,  1, 70, 61,  1, 69, 76,\n",
      "        68, 57, 60, 73,  1, 61, 70, 76, 73, 10,  1, 43, 73, 64, 77, 60, 75,  1,\n",
      "        31, 73, 64, 77, 60, 10,  1,  0, 78, 60, 73, 60,  1, 71, 73, 70, 76, 59,\n",
      "         1, 75, 70,  1, 74, 56, 80,  1, 75, 63, 56, 75,  1, 75, 63, 60, 80,  1,\n",
      "        78, 60, 73, 60,  1, 71, 60, 73, 61, 60, 58, 75, 67, 80,  1, 69, 70, 73,\n",
      "        68, 56, 67, 10,  1,  0, 75, 63, 56, 69, 66,  1, 80, 70, 76,  1, 77, 60,\n",
      "        73, 80,  1, 68, 76, 58, 63, 12,  1, 47, 63, 60, 80,  1, 78, 60, 73, 60,\n",
      "         1, 75, 63, 60,  1, 67, 56, 74, 75,  1, 71, 60, 70, 71, 67, 60,  1, 80,\n",
      "        70, 76, 86, 59,  1,  0, 60, 79, 71, 60, 58, 75,  1, 75, 70,  1, 57, 60,\n",
      "         1, 64, 69, 77, 70, 67, 77, 60, 59,  1, 64, 69,  1, 56, 69, 80, 75, 63,\n",
      "        64, 69, 62,  1, 74, 75, 73, 56, 69, 62, 60,  1, 70, 73,  1,  0, 68, 80,\n",
      "        74, 75, 60, 73, 64, 70, 76, 74, 10,  1, 57, 60, 58, 56, 76, 74, 60,  1,\n",
      "        75, 63, 60, 80,  1, 65, 76, 74, 75,  1, 59, 64, 59, 69, 86, 75,  1, 63,\n",
      "        70, 67, 59,  1, 78, 64, 75, 63,  1, 74, 76, 58, 63,  1,  0, 69, 70, 69,\n",
      "        74, 60, 69, 74, 60, 12,  1,  0,  0, 40, 73, 12,  1, 31, 76, 73, 74, 67,\n",
      "        60, 80,  1, 78, 56, 74,  1, 75, 63, 60,  1, 59, 64, 73, 60, 58, 75, 70,\n",
      "        73,  1, 70, 61,  1, 56,  1, 61, 64, 73, 68,  1, 58, 56, 67, 67, 60, 59,\n",
      "         1,  0, 34, 73, 76, 69, 69, 64, 69, 62, 74, 10,  1, 78, 63, 64, 58, 63,\n",
      "         1, 68, 56, 59, 60,  1, 59, 73, 64, 67, 67, 74, 12,  1, 35, 60,  1, 78,\n",
      "        56, 74,  1, 56,  1, 57, 64, 62, 10,  1, 57, 60, 60, 61, 80,  1,  0, 68,\n",
      "        56, 69,  1, 78, 64, 75, 63,  1, 63, 56, 73, 59, 67, 80,  1, 56, 69, 80,\n",
      "         1, 69, 60, 58, 66, 10,  1, 56, 67, 75, 63, 70, 76, 62, 63,  1, 63, 60,\n",
      "         1, 59, 64, 59,  1, 63, 56, 77, 60,  1, 56,  1,  0, 77, 60, 73, 80,  1,\n",
      "        67, 56, 73, 62, 60,  1, 68, 76, 74, 75, 56, 58, 63, 60, 12,  1, 40, 73,\n",
      "        74, 12,  1, 31, 76, 73, 74, 67, 60, 80,  1, 78, 56, 74,  1, 75, 63, 64,\n",
      "        69,  1, 56, 69, 59,  1,  0, 57, 67, 70, 69, 59, 60,  1],\n",
      "       dtype=torch.int32)\n"
     ]
    }
   ],
   "source": [
    "# Converting the data into int using the encode function\n",
    "data_encoded = torch.tensor(encode(data), dtype=torch.int32)\n",
    "\n",
    "# Previewing the first 500 characters\n",
    "print(data_encoded[:500])"
   ]
  },
  {
   "cell_type": "code",
   "execution_count": 6,
   "metadata": {},
   "outputs": [
    {
     "name": "stdout",
     "output_type": "stream",
     "text": [
      "The shape of the dataset is:  6765181\n"
     ]
    }
   ],
   "source": [
    "# Printing the shape of the dataset\n",
    "data_size = data_encoded.shape[0]\n",
    "print(\"The shape of the dataset is: \", data_size)"
   ]
  },
  {
   "cell_type": "markdown",
   "metadata": {},
   "source": [
    "### Separating the data into training and validation sets"
   ]
  },
  {
   "cell_type": "code",
   "execution_count": 7,
   "metadata": {},
   "outputs": [],
   "source": [
    "# Setting a seed for reproducibility\n",
    "torch.manual_seed(0)\n",
    "\n",
    "# Separating the data into training and testing sets\n",
    "train, valid = random_split(data_encoded, [0.9, 0.1])"
   ]
  },
  {
   "cell_type": "markdown",
   "metadata": {},
   "source": [
    "### Creating a torch dataset class"
   ]
  },
  {
   "cell_type": "code",
   "execution_count": 8,
   "metadata": {},
   "outputs": [],
   "source": [
    "class MakeDataset(Dataset):\n",
    "    def __init__(self, data:torch.Tensor, block_size:int=10):\n",
    "        self.data = data\n",
    "        self.block_size = block_size\n",
    "\n",
    "    def __len__(self) -> int:\n",
    "        return len(self.data) - self.block_size\n",
    "\n",
    "    def __getitem__(self, index:int) -> tuple[torch.Tensor, torch.Tensor]:\n",
    "        return self.data[index : index + self.block_size], self.data[index + 1 : index + self.block_size + 1]"
   ]
  },
  {
   "cell_type": "code",
   "execution_count": 9,
   "metadata": {},
   "outputs": [],
   "source": [
    "# Defining the block size\n",
    "block_size = 10\n",
    "\n",
    "# Converting the torch tensor to a dataset\n",
    "train_dataset = MakeDataset(train, block_size=block_size)\n",
    "\n",
    "# Converting the valid tensor to a dataset\n",
    "valid_dataset = MakeDataset(valid, block_size=block_size)"
   ]
  },
  {
   "cell_type": "code",
   "execution_count": 10,
   "metadata": {},
   "outputs": [
    {
     "name": "stdout",
     "output_type": "stream",
     "text": [
      "input:  [69 76 59  1 60  1  0 56  1 64] target: [76 59  1 60  1  0 56  1 64 56]\n",
      "\n",
      "\n",
      "input:  [76 59  1 60  1  0 56  1 64 56] target: [59  1 60  1  0 56  1 64 56  1]\n",
      "\n",
      "\n",
      "input:  [59  1 60  1  0 56  1 64 56  1] target: [ 1 60  1  0 56  1 64 56  1 60]\n",
      "\n",
      "\n",
      "input:  [ 1 60  1  0 56  1 64 56  1 60] target: [60  1  0 56  1 64 56  1 60 70]\n",
      "\n",
      "\n",
      "input:  [60  1  0 56  1 64 56  1 60 70] target: [ 1  0 56  1 64 56  1 60 70 61]\n",
      "\n",
      "\n"
     ]
    }
   ],
   "source": [
    "# Empty lists to store inputs and targets\n",
    "X = list()\n",
    "Y = list()\n",
    "\n",
    "# Take an example from the train_dataset\n",
    "for i, (x, y) in enumerate(train_dataset):\n",
    "    if i >= 5:\n",
    "        break\n",
    "    \n",
    "    X.append(x.numpy())\n",
    "    Y.append(y.numpy())\n",
    "\n",
    "# Print the inputs and targets example\n",
    "for x, y in zip(X, Y):\n",
    "    print(\"input: \", x, \"target:\", y)\n",
    "    print('\\n')"
   ]
  },
  {
   "cell_type": "markdown",
   "metadata": {},
   "source": [
    "### Creating DataLoaders"
   ]
  },
  {
   "cell_type": "code",
   "execution_count": 11,
   "metadata": {},
   "outputs": [],
   "source": [
    "# Defining the batch size\n",
    "batch_size = 8\n",
    "\n",
    "# Creating the dataloader for the training data\n",
    "train_loader = DataLoader(train_dataset, batch_size=batch_size, shuffle=True)\n",
    "\n",
    "# Creating the dataloader for the validation data\n",
    "valid_loader = DataLoader(valid_dataset, batch_size=batch_size, shuffle=True)"
   ]
  },
  {
   "cell_type": "code",
   "execution_count": 12,
   "metadata": {},
   "outputs": [
    {
     "name": "stdout",
     "output_type": "stream",
     "text": [
      "torch.Size([8, 10])\n",
      "torch.Size([8, 10])\n"
     ]
    }
   ],
   "source": [
    "# Sampling the data from the DataLoader\n",
    "for i, (inputs, labels) in enumerate(train_loader):\n",
    "    print(inputs.shape)\n",
    "    print(labels.shape)\n",
    "    break"
   ]
  },
  {
   "cell_type": "markdown",
   "metadata": {},
   "source": [
    "## Defining the Transformer Model"
   ]
  },
  {
   "cell_type": "markdown",
   "metadata": {},
   "source": [
    "### Single-head attention"
   ]
  },
  {
   "cell_type": "code",
   "execution_count": 13,
   "metadata": {},
   "outputs": [],
   "source": [
    "class AttentionHead(nn.Module):\n",
    "    \n",
    "    def __init__(self, n_embed:int, head_size:int, dropout_rate:float=0.1):\n",
    "        \n",
    "        super().__init__()\n",
    "\n",
    "        # Initialize parameters\n",
    "        self.n_embed = n_embed\n",
    "        self.head_size = head_size\n",
    "\n",
    "        # Query, Key, Value\n",
    "        self.W_Q = nn.Linear(n_embed, head_size)\n",
    "        self.W_K = nn.Linear(n_embed, head_size)\n",
    "        self.W_V = nn.Linear(n_embed, head_size)\n",
    "\n",
    "        # Masking buffer\n",
    "        self.register_buffer('mask', torch.tril(torch.ones(head_size, head_size)))\n",
    "\n",
    "        # Dropout layer\n",
    "        self.dropout = nn.Dropout(dropout_rate)\n",
    "\n",
    "    def forward(self, x:torch.Tensor) -> torch.Tensor:\n",
    "        # Get the shape of the input\n",
    "        _,T,C = x.shape\n",
    "\n",
    "        # Get the query, key, and value vectors\n",
    "        q = self.W_Q(x) \n",
    "        k = self.W_K(x) \n",
    "        v = self.W_V(x)\n",
    "\n",
    "        # Masking the attention weights ala Decoder model\n",
    "        wei = q @ k.transpose(-2,-1) * x.shape[-1]**-0.5 \n",
    "        wei = wei.masked_fill(self.mask[:T, :T] == 0, float('-inf'))\n",
    "        wei = F.softmax(wei, dim=-1)\n",
    "        wei = self.dropout(wei)\n",
    "\n",
    "        # Matrix multiplication to get the output\n",
    "        out = wei @ v\n",
    "\n",
    "        return out"
   ]
  },
  {
   "cell_type": "markdown",
   "metadata": {},
   "source": [
    "### Multi-head attention"
   ]
  },
  {
   "cell_type": "code",
   "execution_count": 14,
   "metadata": {},
   "outputs": [],
   "source": [
    "class MultiHeadAttention(nn.Module):\n",
    "    def __init__(self, n_embed:int, n_head:int, dropout_rate:float=0.1):\n",
    "        super().__init__()\n",
    "\n",
    "        # Initialize parameters\n",
    "        self.head_size = n_embed // n_head\n",
    "        self.n_head = n_head\n",
    "        self.n_embed = n_embed\n",
    "        \n",
    "        # Initialize the heads\n",
    "        self.heads = nn.Sequential(*[AttentionHead(n_embed, self.head_size, dropout_rate) for _ in range(n_head)])\n",
    "        \n",
    "        # Dropout layer\n",
    "        self.dropout = nn.Dropout(dropout_rate)\n",
    "\n",
    "        # Projection layer\n",
    "        self.W_O = nn.Linear(n_head * self.head_size, n_embed, bias=False)\n",
    "\n",
    "    def forward(self, x:torch.Tensor) -> torch.Tensor:\n",
    "        \n",
    "        x = torch.cat([self.heads[i](x) for i in range(self.n_head)], dim=-1)\n",
    "        x = self.dropout(x)\n",
    "        out = self.W_O(x)\n",
    "\n",
    "        return out"
   ]
  },
  {
   "cell_type": "markdown",
   "metadata": {},
   "source": [
    "### Feed forward network"
   ]
  },
  {
   "cell_type": "code",
   "execution_count": 15,
   "metadata": {},
   "outputs": [],
   "source": [
    "class FeedForward(nn.Module):\n",
    "    def __init__(self, n_embed:int, dropout_rate:float=0.1):\n",
    "        super().__init__()\n",
    "\n",
    "        # Implementation of Feedforward model\n",
    "        self.stack = nn.Sequential(\n",
    "            nn.Linear(n_embed, 4 * n_embed),\n",
    "            nn.ReLU(),\n",
    "            nn.Linear(4 * n_embed, n_embed),\n",
    "            nn.Dropout(dropout_rate)\n",
    "        )\n",
    "\n",
    "    def forward(self, x:torch.Tensor) -> torch.Tensor:\n",
    "        return self.stack(x)"
   ]
  },
  {
   "cell_type": "markdown",
   "metadata": {},
   "source": [
    "### Transformer hidden layer"
   ]
  },
  {
   "cell_type": "code",
   "execution_count": 16,
   "metadata": {},
   "outputs": [],
   "source": [
    "class TransformerLayer(nn.Module):\n",
    "    def __init__(self, n_embed:int, n_head:int, dropout_rate:float=0.1):\n",
    "        super().__init__()\n",
    "\n",
    "        # Initialize layers\n",
    "        self.attention = MultiHeadAttention(n_embed, n_head, dropout_rate)\n",
    "        self.feed_forward = FeedForward(n_embed, dropout_rate)\n",
    "        self.layernorm_1 = nn.LayerNorm(n_embed)\n",
    "        self.layernorm_2 = nn.LayerNorm(n_embed)\n",
    "\n",
    "    def forward(self, x:torch.Tensor, mask:torch.Tensor=None) -> torch.Tensor:\n",
    "        x = x + self.attention(self.layernorm_1(x))\n",
    "        x = x + self.feed_forward(self.layernorm_2(x))\n",
    "        return x"
   ]
  },
  {
   "cell_type": "markdown",
   "metadata": {},
   "source": [
    "### Transformer model"
   ]
  },
  {
   "cell_type": "code",
   "execution_count": 17,
   "metadata": {},
   "outputs": [],
   "source": [
    "class TransformerModel(nn.Module):\n",
    "    def __init__(self, vocab_size:int, n_embed:int, n_heads:int, block_size:int, n_layers:int=4, dropout_rate:float=0.1):\n",
    "        super().__init__()\n",
    "\n",
    "        # Embedding layers\n",
    "        self.token_embedding = nn.Embedding(vocab_size, n_embed)\n",
    "        self.pos_embedding = nn.Embedding(block_size, n_embed)\n",
    "\n",
    "        # Initialize the transformer layers\n",
    "        self.hidden_layers = nn.Sequential(*[TransformerLayer(n_embed, n_heads, dropout_rate) for _ in range(n_layers)])\n",
    "\n",
    "        # Final projection and normalization\n",
    "        self.layernorm = nn.LayerNorm(n_embed)\n",
    "        self.linear = nn.Linear(n_embed, vocab_size)\n",
    "    \n",
    "    def forward(self, x:torch.Tensor) -> torch.Tensor:\n",
    "        x = self.token_embedding(x) + self.pos_embedding(torch.arange(x.shape[1], device=x.device))\n",
    "        x = self.hidden_layers(x)\n",
    "        x = self.layernorm(x)\n",
    "        x = self.linear(x)\n",
    "        return x"
   ]
  },
  {
   "cell_type": "markdown",
   "metadata": {},
   "source": [
    "## Lightning Wrappers"
   ]
  },
  {
   "cell_type": "markdown",
   "metadata": {},
   "source": [
    "### Lightning model"
   ]
  },
  {
   "cell_type": "code",
   "execution_count": 18,
   "metadata": {},
   "outputs": [],
   "source": [
    "class TransformerLightning(L.LightningModule):\n",
    "    def __init__(self, model:nn.Module, learning_rate:float, vocab_size:int):\n",
    "        super().__init__()\n",
    "        \n",
    "        # Choosing the hyperparameters\n",
    "        self.learning_rate = learning_rate\n",
    "        self.model = model\n",
    "\n",
    "        # Saving the hyperparameters\n",
    "        self.save_hyperparameters(ignore=[\"model\"])\n",
    "\n",
    "        # Torchmetrics logging\n",
    "        self.train_acc = torchmetrics.Accuracy(task=\"multiclass\", num_classes=vocab_size)\n",
    "        self.valid_acc = torchmetrics.Accuracy(task=\"multiclass\", num_classes=vocab_size)\n",
    "\n",
    "    def forward(self, x:torch.Tensor) -> torch.Tensor:\n",
    "        return self.model(x)\n",
    "\n",
    "    def _shared_step(self, batch:tuple[torch.Tensor, torch.Tensor]) -> tuple[torch.Tensor, torch.Tensor, torch.Tensor]:\n",
    "        # Get the input and labels\n",
    "        features, true_labels = batch\n",
    "\n",
    "        # Logits from the model\n",
    "        logits = self(features)\n",
    "\n",
    "        # Reshapping the label and logits\n",
    "        B, T, C = logits.shape\n",
    "        logits = logits.view(B * T, C)\n",
    "        true_labels = true_labels.view(B * T)\n",
    "\n",
    "        # Calculating the loss\n",
    "        loss = F.cross_entropy(logits, true_labels)\n",
    "\n",
    "        # Getting the label\n",
    "        predicted_labels = torch.argmax(logits, dim=1)\n",
    "        return loss, true_labels, predicted_labels\n",
    "\n",
    "    def training_step(self, batch:tuple[torch.Tensor, torch.Tensor], batch_idx:torch.Tensor) -> torch.Tensor:\n",
    "        # Get the loss, true labels and predicted labels\n",
    "        loss, true_labels, predicted_labels = self._shared_step(batch)\n",
    "\n",
    "        # Logging the loss and accuracy\n",
    "        self.log(\"train_loss\", loss, on_step=True, on_epoch=True, prog_bar=True, sync_dist=True)\n",
    "        self.train_acc(predicted_labels, true_labels)\n",
    "        self.log(\"train_acc\", self.train_acc, prog_bar=True, on_epoch=True, on_step=True, sync_dist=True)\n",
    "        return loss\n",
    "\n",
    "    def validation_step(self, batch:tuple[torch.Tensor, torch.Tensor], batch_idx:torch.Tensor) -> torch.Tensor:\n",
    "        # Get the loss, true labels and predicted labels\n",
    "        loss, true_labels, predicted_labels = self._shared_step(batch)\n",
    "\n",
    "        # Logging the loss and accuracy\n",
    "        self.log(\"val_loss\", loss, prog_bar=True, sync_dist=True)\n",
    "        self.valid_acc(predicted_labels, true_labels)\n",
    "        self.log(\"val_acc\", self.valid_acc, prog_bar=True, sync_dist=True)\n",
    "\n",
    "    def configure_optimizers(self):\n",
    "        # Configuring the optimizer\n",
    "        optimizer = optim.AdamW(self.parameters(), lr=self.learning_rate)\n",
    "        return optimizer"
   ]
  },
  {
   "cell_type": "markdown",
   "metadata": {},
   "source": [
    "### Data module"
   ]
  },
  {
   "cell_type": "code",
   "execution_count": 19,
   "metadata": {},
   "outputs": [],
   "source": [
    "class MakeDM(L.LightningDataModule):\n",
    "    def __init__(self, data_dir:str='./', batch_size:int=64, block_size:int=10, num_workers:int=0) -> None:\n",
    "        super().__init__()\n",
    "        self.data_dir = data_dir\n",
    "        self.batch_size = batch_size\n",
    "        self.block_size = block_size\n",
    "        self.num_workers = num_workers\n",
    "\n",
    "    def prepare_data(self) -> None:\n",
    "        # Loading in the data\n",
    "        with open(self.data_dir, mode='r', encoding='utf-8') as f:\n",
    "            self.data_ = f.read()\n",
    "\n",
    "        # Creating mapping from characters to integers and vice versa\n",
    "        self.stoi_ = {ch:i for i,ch in enumerate(sorted(list(set(self.data_))))}\n",
    "        self.itos_ = {i:ch for ch,i in self.stoi_.items()}\n",
    "\n",
    "    def encode(self, text:str) -> list[int]:\n",
    "        return [self.stoi_[ch] for ch in text]\n",
    "    \n",
    "    def decode(self, encoded:list[int]) -> str:\n",
    "        return [self.itos_[i] for i in encoded]\n",
    "\n",
    "    def setup(self, stage:str, seed:bool=True, train_size:float=0.9) -> None:\n",
    "        # Convert the text into a integer representation\n",
    "        self.encoded_ = torch.tensor(self.encode(self.data_))\n",
    "        \n",
    "        # Convert the data into a dataset\n",
    "        self.dataset_ = MakeDataset(self.encoded_, block_size=self.block_size)\n",
    "\n",
    "        # Creating a random generator\n",
    "        generator = torch.Generator().manual_seed(0) if seed else None\n",
    "        \n",
    "        # Split the data into training and validation sets\n",
    "        self.train_data_, self.valid_data_ = random_split(self.dataset_, lengths=[train_size, 1 - train_size], generator=generator)\n",
    "\n",
    "    def train_dataloader(self) -> DataLoader:\n",
    "        return DataLoader(self.train_data_, batch_size=self.batch_size, shuffle=True, num_workers=self.num_workers)\n",
    "    \n",
    "    def val_dataloader(self) -> DataLoader:\n",
    "        return DataLoader(self.valid_data_, batch_size=self.batch_size, shuffle=False, num_workers=self.num_workers)"
   ]
  },
  {
   "cell_type": "markdown",
   "metadata": {},
   "source": [
    "## Model Training"
   ]
  },
  {
   "cell_type": "markdown",
   "metadata": {},
   "source": [
    "### Initialisation"
   ]
  },
  {
   "cell_type": "code",
   "execution_count": 20,
   "metadata": {},
   "outputs": [],
   "source": [
    "# Hyperparameters and settings\n",
    "data_dir = \"data//hp_all.txt\"\n",
    "vocab_size = 92\n",
    "n_embed = 512\n",
    "n_heads = 16\n",
    "block_size = 32\n",
    "n_layers = 8\n",
    "dropout_rate = 0.1\n",
    "num_workers = 2\n",
    "batch_size = 512\n",
    "learning_rate = 1e-3\n",
    "\n",
    "# Creating the model\n",
    "transformer = TransformerModel(vocab_size, n_embed, n_heads, block_size, n_layers, dropout_rate)"
   ]
  },
  {
   "cell_type": "code",
   "execution_count": 21,
   "metadata": {},
   "outputs": [],
   "source": [
    "# Creating the data module for lightning\n",
    "dm = MakeDM(data_dir=data_dir, batch_size=batch_size, \n",
    "            num_workers=num_workers, block_size=block_size)\n",
    "\n",
    "# Preparing the data\n",
    "dm.prepare_data()\n",
    "\n",
    "# Creating the model for lightning\n",
    "lightning_model = TransformerLightning(model=transformer, learning_rate=learning_rate, vocab_size=vocab_size)"
   ]
  },
  {
   "cell_type": "markdown",
   "metadata": {},
   "source": [
    "### Training the model"
   ]
  },
  {
   "cell_type": "code",
   "execution_count": 22,
   "metadata": {},
   "outputs": [],
   "source": [
    "# # Creating the training loop\n",
    "# trainer = L.Trainer(\n",
    "#     fast_dev_run=1,\n",
    "#     max_epochs=15,\n",
    "#     accelerator=\"cpu\" if not torch.cuda.is_available() else \"gpu\",\n",
    "#     devices=\"auto\",\n",
    "#     deterministic=True,\n",
    "#     logger=CSVLogger(\"logs/\", name=\"hp-tf\"),\n",
    "#     strategy=\"ddp_notebook\" if torch.cuda.is_available() else None\n",
    "# )\n",
    "\n",
    "# # Fitting the model\n",
    "# trainer.fit(model=lightning_model, datamodule=dm)"
   ]
  },
  {
   "cell_type": "markdown",
   "metadata": {},
   "source": [
    "### Visualisation of training logs"
   ]
  },
  {
   "cell_type": "code",
   "execution_count": 23,
   "metadata": {},
   "outputs": [
    {
     "data": {
      "text/html": [
       "<div>\n",
       "<style scoped>\n",
       "    .dataframe tbody tr th:only-of-type {\n",
       "        vertical-align: middle;\n",
       "    }\n",
       "\n",
       "    .dataframe tbody tr th {\n",
       "        vertical-align: top;\n",
       "    }\n",
       "\n",
       "    .dataframe thead th {\n",
       "        text-align: right;\n",
       "    }\n",
       "</style>\n",
       "<table border=\"1\" class=\"dataframe\">\n",
       "  <thead>\n",
       "    <tr style=\"text-align: right;\">\n",
       "      <th></th>\n",
       "      <th>train_loss_step</th>\n",
       "      <th>train_acc_step</th>\n",
       "      <th>epoch</th>\n",
       "      <th>step</th>\n",
       "      <th>val_loss</th>\n",
       "      <th>val_acc</th>\n",
       "      <th>train_loss_epoch</th>\n",
       "      <th>train_acc_epoch</th>\n",
       "    </tr>\n",
       "  </thead>\n",
       "  <tbody>\n",
       "    <tr>\n",
       "      <th>0</th>\n",
       "      <td>2.786622</td>\n",
       "      <td>0.260010</td>\n",
       "      <td>0</td>\n",
       "      <td>49</td>\n",
       "      <td>NaN</td>\n",
       "      <td>NaN</td>\n",
       "      <td>NaN</td>\n",
       "      <td>NaN</td>\n",
       "    </tr>\n",
       "    <tr>\n",
       "      <th>1</th>\n",
       "      <td>2.408864</td>\n",
       "      <td>0.324463</td>\n",
       "      <td>0</td>\n",
       "      <td>99</td>\n",
       "      <td>NaN</td>\n",
       "      <td>NaN</td>\n",
       "      <td>NaN</td>\n",
       "      <td>NaN</td>\n",
       "    </tr>\n",
       "    <tr>\n",
       "      <th>2</th>\n",
       "      <td>2.093794</td>\n",
       "      <td>0.402222</td>\n",
       "      <td>0</td>\n",
       "      <td>149</td>\n",
       "      <td>NaN</td>\n",
       "      <td>NaN</td>\n",
       "      <td>NaN</td>\n",
       "      <td>NaN</td>\n",
       "    </tr>\n",
       "    <tr>\n",
       "      <th>3</th>\n",
       "      <td>1.833889</td>\n",
       "      <td>0.466797</td>\n",
       "      <td>0</td>\n",
       "      <td>199</td>\n",
       "      <td>NaN</td>\n",
       "      <td>NaN</td>\n",
       "      <td>NaN</td>\n",
       "      <td>NaN</td>\n",
       "    </tr>\n",
       "    <tr>\n",
       "      <th>4</th>\n",
       "      <td>1.675614</td>\n",
       "      <td>0.504974</td>\n",
       "      <td>0</td>\n",
       "      <td>249</td>\n",
       "      <td>NaN</td>\n",
       "      <td>NaN</td>\n",
       "      <td>NaN</td>\n",
       "      <td>NaN</td>\n",
       "    </tr>\n",
       "  </tbody>\n",
       "</table>\n",
       "</div>"
      ],
      "text/plain": [
       "   train_loss_step  train_acc_step  epoch  step  val_loss  val_acc  \\\n",
       "0         2.786622        0.260010      0    49       NaN      NaN   \n",
       "1         2.408864        0.324463      0    99       NaN      NaN   \n",
       "2         2.093794        0.402222      0   149       NaN      NaN   \n",
       "3         1.833889        0.466797      0   199       NaN      NaN   \n",
       "4         1.675614        0.504974      0   249       NaN      NaN   \n",
       "\n",
       "   train_loss_epoch  train_acc_epoch  \n",
       "0               NaN              NaN  \n",
       "1               NaN              NaN  \n",
       "2               NaN              NaN  \n",
       "3               NaN              NaN  \n",
       "4               NaN              NaN  "
      ]
     },
     "execution_count": 23,
     "metadata": {},
     "output_type": "execute_result"
    }
   ],
   "source": [
    "# Reading the logs from the csv log file\n",
    "logs = pd.read_csv('logs/hp-tf/metrics.csv')\n",
    "\n",
    "# Preview the first 5 lines of the loaded data\n",
    "logs.head()"
   ]
  },
  {
   "cell_type": "code",
   "execution_count": 24,
   "metadata": {},
   "outputs": [
    {
     "data": {
      "image/png": "[encoded data removed]",
      "text/plain": [
       "<Figure size 1500x500 with 2 Axes>"
      ]
     },
     "metadata": {},
     "output_type": "display_data"
    }
   ],
   "source": [
    "# Setting up two figures\n",
    "fig, (ax1, ax2) = plt.subplots(1, 2, figsize=(15, 5))\n",
    "\n",
    "# Plotting the step losses for the training data\n",
    "ax1.plot(logs['step'], logs['train_loss_step'])\n",
    "ax1.set_title('Training Loss per Step')\n",
    "ax1.set_xlabel('Step')\n",
    "ax1.set_ylabel('Loss')\n",
    "\n",
    "# Plotting the step accuracies for the training data\n",
    "ax2.plot(logs['step'], logs['train_acc_step'])\n",
    "ax2.set_title('Training Accuracy per Step')\n",
    "ax2.set_xlabel('Step')\n",
    "ax2.set_ylabel('Accuracy')\n",
    "\n",
    "# Displaying the plots\n",
    "plt.show()"
   ]
  },
  {
   "cell_type": "code",
   "execution_count": 25,
   "metadata": {},
   "outputs": [
    {
     "data": {
      "image/png": "[encoded data removed]",
      "text/plain": [
       "<Figure size 1500x500 with 2 Axes>"
      ]
     },
     "metadata": {},
     "output_type": "display_data"
    }
   ],
   "source": [
    "# Groupping the metrics based on epoch\n",
    "logs_epoch = logs.groupby('epoch').mean()\n",
    "\n",
    "# Setting up two figures\n",
    "fig, (ax1, ax2) = plt.subplots(1, 2, figsize=(15, 5))\n",
    "\n",
    "# Plotting the Epoch losses for the training data\n",
    "ax1.plot(logs_epoch['train_loss_epoch'], label='Training')\n",
    "ax1.plot(logs_epoch['val_loss'], label='Validation')\n",
    "ax1.set_title('Loss per Epoch')\n",
    "ax1.set_xlabel('Epoch')\n",
    "ax1.set_ylabel('Loss')\n",
    "\n",
    "# Plotting the Epoch accuracies for the training data\n",
    "ax2.plot(logs_epoch['train_acc_epoch'], label='Training')\n",
    "ax2.plot(logs_epoch['val_acc'], label='Validation')\n",
    "ax2.set_title('Accuracy per Epoch')\n",
    "ax2.set_xlabel('Epoch')\n",
    "ax2.set_ylabel('Accuracy')\n",
    "\n",
    "# Displaying the plots\n",
    "plt.legend()\n",
    "plt.show()"
   ]
  },
  {
   "cell_type": "markdown",
   "metadata": {},
   "source": [
    "### Saving the model"
   ]
  },
  {
   "cell_type": "code",
   "execution_count": 26,
   "metadata": {},
   "outputs": [],
   "source": [
    "# # Saving the model weights\n",
    "# torch.save(transformer.state_dict(), \"model//model_weights.pth\")"
   ]
  },
  {
   "cell_type": "markdown",
   "metadata": {},
   "source": [
    "## Inference"
   ]
  },
  {
   "cell_type": "markdown",
   "metadata": {},
   "source": [
    "### Loading the model back in"
   ]
  },
  {
   "cell_type": "code",
   "execution_count": 27,
   "metadata": {},
   "outputs": [],
   "source": [
    "# Creating the model\n",
    "transformer = TransformerModel(vocab_size, n_embed, n_heads, block_size, n_layers, dropout_rate)\n",
    "\n",
    "# Loading the model in\n",
    "transformer.load_state_dict(torch.load('model//model_weights.pth'))\n",
    "\n",
    "# Setting the device\n",
    "device = torch.device('cuda' if torch.cuda.is_available() else 'cpu')\n",
    "\n",
    "# Moving the model to the device\n",
    "transformer.to(device)"
   ]
  },
  {
   "cell_type": "markdown",
   "metadata": {},
   "source": [
    "### Generating new text"
   ]
  },
  {
   "cell_type": "code",
   "execution_count": 28,
   "metadata": {},
   "outputs": [],
   "source": [
    "def generate(context:str, model:nn.Module=transformer, max_tokens:int=100, temperature:int=1, \n",
    "             block_size:int=32, device:str='cpu', seed:int=None) -> str:\n",
    "    # Setting the model to evaluation mode\n",
    "    model.eval()\n",
    "\n",
    "    # Context string\n",
    "    context = context\n",
    "\n",
    "    # Convert the context to tokens\n",
    "    context_tokens = torch.Tensor([dm.encode(context[-block_size:])]).long().to(device)\n",
    "\n",
    "    # Set the random seed\n",
    "    generator = torch.Generator(device=device).manual_seed(seed) if seed is not None else None\n",
    "\n",
    "    for _ in range(max_tokens):\n",
    "        # Generate the next token\n",
    "        generated = model(context_tokens) * temperature\n",
    "        \n",
    "        # Sample a token from the probability distribution\n",
    "        next_token = torch.multinomial(torch.softmax(generated[:, -1, :], dim=-1), \n",
    "                                       num_samples=1, generator=generator).squeeze()\n",
    "\n",
    "        # Append the generated token to the context\n",
    "        context += dm.decode([next_token.item()])[0]\n",
    "\n",
    "        if context_tokens.shape[1] >= block_size:\n",
    "            # Remove the first token\n",
    "            context_tokens = context_tokens[:, 1:]\n",
    "\n",
    "        # Concatenate the generated token and the context tokens\n",
    "        context_tokens = torch.cat([context_tokens, next_token.view(1, 1)], dim=-1)\n",
    "\n",
    "    return context"
   ]
  },
  {
   "cell_type": "code",
   "execution_count": 29,
   "metadata": {},
   "outputs": [
    {
     "name": "stdout",
     "output_type": "stream",
     "text": [
      "Harry, y'er a wizard!” \n",
      "\n",
      "She drew out a hand to shoot backward into it, she looked as if \n",
      "someone had killed him then?” whispered Harry, \n",
      "shaking uncontrollably. \n",
      "\n",
      "“Give it a rest, Hermione,” said Tonks, and you are worried, are \n",
      "you?” \n",
      "\n",
      "“No,” Mr. Weasley muttered. “Well, it ought to be qualified for,” \n",
      "before turning back to the Dursleys’ \n",
      "house. There was no longer a pay \n",
      "raise power, won’t they?” said Hermione curtly. \n",
      "“There’s an easier way up at the cat, the small window \n",
      "started to spin yet again a little to \n",
      "listen to her. He stared guilty at the \n",
      "World Cup. \n",
      "\n",
      "“You’ve already used it!” he panted, \n",
      "mouthing shrilly, and Hagrid rolled over and sat down. \n",
      "\n",
      "\n",
      "\n",
      "“I thought this is because it is going to \n",
      "sleep with the course of emotion!” she said in a sharp voice from \n",
      "behind both of them floating in front of the fire. \n",
      "\n",
      "“Go quick, Harry. I’m going to descend \n",
      "from behind him and mine froze. Harry \n",
      "reached a stocky little Tradea Sorcery and \n",
      "everyone thinks you’re taking it down so Rita Skeeter’s Quick-Q\n"
     ]
    }
   ],
   "source": [
    "print(generate(\"Harry, y'er a wizard\", model=transformer, max_tokens=1000, temperature=1, seed=0))"
   ]
  }
 ],
 "metadata": {
  "kernelspec": {
   "display_name": "base",
   "language": "python",
   "name": "python3"
  },
  "language_info": {
   "codemirror_mode": {
    "name": "ipython",
    "version": 3
   },
   "file_extension": ".py",
   "mimetype": "text/x-python",
   "name": "python",
   "nbconvert_exporter": "python",
   "pygments_lexer": "ipython3",
   "version": "3.10.10"
  },
  "orig_nbformat": 4
 },
 "nbformat": 4,
 "nbformat_minor": 2
}
